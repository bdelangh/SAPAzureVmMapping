{
 "cells": [
  {
   "cell_type": "code",
   "execution_count": 10,
   "metadata": {},
   "outputs": [],
   "source": [
    "#Imports\n",
    "import pandas as pd\n",
    "import numpy as nd\n",
    "import os"
   ]
  },
  {
   "cell_type": "code",
   "execution_count": 11,
   "metadata": {},
   "outputs": [
    {
     "name": "stdout",
     "output_type": "stream",
     "text": [
      "   azSeries  azVmName  vCPU  vMem   vSAPS  Enabled\n",
      "0      Esv3     E2sv3     2    16    2178     True\n",
      "1      Esv3     E4sv3     4    32    4355     True\n",
      "2      Esv3  E8-4s_v3     4    64    4378     True\n",
      "3      Esv3    E8s_v3     8    64    8710     True\n",
      "4      Esv3   E16s_v3    16   128   17420     True\n",
      "5      Esv3   E20s_v3    20   160   21775     True\n",
      "6      Esv3   E32s_v3    32   256   34840     True\n",
      "7      Esv3   E38s_v3    48   384   52512     True\n",
      "8      Esv3  E64is_v3    64   432   70050     True\n",
      "9      Esv3   E64s_v3    64   432   70050     True\n",
      "10     Dsv3    D2s_v3     2     8    2178     True\n",
      "11     Dsv3    D4s_v3     4    16    4355     True\n",
      "12     Dsv3    D8s_v3     8    32    8710     True\n",
      "13     Dsv3   D16s_v3    16    64   17420     True\n",
      "14     Dsv3   D32s_v3    32   128   34840     True\n",
      "15     Dsv3   D48s_v3    48   192   52224     True\n",
      "16     Dsv3   D64s_v3    64   256   69680     True\n",
      "32        M      M8ms     8   219    8616     True\n",
      "33        M     M16ms    16   438   17232     True\n",
      "34        M     M32ts    32   192   33670     True\n",
      "35        M     M32ls    32   256   33670     True\n",
      "36        M     M32ms    32   875   34465     True\n",
      "37        M     M64ls    64   512   66600     True\n",
      "38        M      M64s    64  1024   67315     True\n",
      "39        M     M64ms    64  1792   68930     True\n",
      "40        M     M128s   128  2048  134630     True\n",
      "41        M    M128ms   128  3892  134630     True\n",
      "46       DS      DS11     2    14    2325     True\n",
      "47       DS      DS12     4    28    4650     True\n",
      "48       DS      DS13     8    56    9300     True\n",
      "49       DS      DS14    16   112   18600     True\n",
      "50     DSv2   DS11_v2     2    14    3530     True\n",
      "51     DSv2   DS12_v2     4    28    6680     True\n",
      "52     DSv2   DS13_v2     8    56   12300     True\n",
      "53     DSv2   DS14_v2    16   112   24180     True\n",
      "54     DSv2   DS15_v2    20   140   30430     True\n"
     ]
    }
   ],
   "source": [
    "#Input columns to use from csv sheets\n",
    "MASTER_COLS_TO_USE = ['azSeries','azVmName','vCPU','vMem','vSAPS','Enabled']\n",
    "INPUT_COLS_TO_USE = ['vmID','vCPU','vMem','DimDataInstance']\n",
    "\n",
    "#Weight in error function for each of the mapping parameters\n",
    "wvCPU = 1\n",
    "wSAPS = 0\n",
    "wMem = 1\n",
    "\n",
    "#MasterData, Input file path\n",
    "Separator = \";\"\n",
    "MASTER_CSV_PATH = os.path.join('data','ALJ-vmMasterData.csv')\n",
    "DATA_CSV_PATH = os.path.join('data', 'ALJ-Optimize.csv')\n",
    "\n",
    "#Path to output file\n",
    "OUT_CSV_PATH = os.path.join('data', 'ALJ-mapDataOut.csv')\n",
    "\n",
    "#read sap masterdata\n",
    "sapData = pd.read_csv(MASTER_CSV_PATH, usecols = MASTER_COLS_TO_USE, sep = Separator)\n",
    "#Only take the enabled vm's into account\n",
    "sapData = sapData[sapData['Enabled']]\n",
    "print(sapData)"
   ]
  },
  {
   "cell_type": "code",
   "execution_count": 16,
   "metadata": {},
   "outputs": [],
   "source": [
    "#read input data\n",
    "mapData = pd.read_csv(DATA_CSV_PATH, usecols = INPUT_COLS_TO_USE, sep = Separator)\n",
    "INPUT_COLS_TO_USE = ['vmID','vCPU','vMem','DimDataInstance']\n",
    "\n",
    "mapData['vSAPS'] = 0\n",
    "mapData['targetVM'] = 'tbd'"
   ]
  },
  {
   "cell_type": "code",
   "execution_count": 17,
   "metadata": {},
   "outputs": [
    {
     "name": "stdout",
     "output_type": "stream",
     "text": [
      "              vmID  vCPU  vMem DimDataInstance  vSAPS targetVM\n",
      "0       aljerpdev      8  49.4         D8s_v3       0      tbd\n",
      "1      aljerpprd1      8  65.9         D8s_v3       0      tbd\n",
      "2      aljerpprd2      4  65.9         D4s_v3       0      tbd\n",
      "3     aljerpprda1     16  65.9        D16s_v3       0      tbd\n",
      "4    aljerpprda10     16  65.9        D16s_v3       0      tbd\n",
      "..             ...   ...   ...             ...    ...      ...\n",
      "157     aljnw9ci2      4  16.4         D4s_v3       0      tbd\n",
      "158     aljnw9db1      8  32.9         D8s_v3       0      tbd\n",
      "159     aljnw9db2      8  32.9         D8s_v3       0      tbd\n",
      "160   aljnw9pasfm      4   8.1         D4s_v3       0      tbd\n",
      "161     ALJSAPGUI      8   8.6         D8s_v3       0      tbd\n",
      "\n",
      "[162 rows x 6 columns]\n"
     ]
    }
   ],
   "source": [
    "print(mapData)"
   ]
  },
  {
   "cell_type": "code",
   "execution_count": 19,
   "metadata": {},
   "outputs": [],
   "source": [
    " #Determine min / max values from masterData for normalization\n",
    "minvCPU  = sapData['vCPU'].min()\n",
    "minvMem  = sapData['vMem'].min()\n",
    "minvSAPS = sapData['vSAPS'].min()\n",
    "maxvCPU  = sapData['vCPU'].max()\n",
    "maxvMem  = sapData['vMem'].max()\n",
    "maxvSAPS = sapData['vSAPS'].max()\n",
    "\n",
    "#Normalization (value - min ) / (max - min)\n",
    "#Normalization MasterData\n",
    "sapData['nvCPU']  = (sapData['vCPU']  - minvCPU)  / (maxvCPU - minvCPU)\n",
    "sapData['nvMem']  = (sapData['vMem']  - minvMem)  / (maxvMem - minvMem)\n",
    "sapData['nvSAPS'] = (sapData['vSAPS'] - minvSAPS) / (maxvSAPS - minvSAPS)\n",
    "\n",
    "#Iterate\n",
    "for index, row in mapData.iterrows():\n",
    "    sapDataTemp = sapData\n",
    "    #print(f\"vmName : {row['vmID']}\", f\"vCPU : {row['vCPU']}\", f\"vMem : {row['vMem']}\", f\"vSAPS : {row['vSAPS']}\", sep = \" / \")\n",
    "          \n",
    "    #Add Target colums\n",
    "    sapDataTemp['xCPU']  = row['vCPU']\n",
    "    sapDataTemp['xMem']  = row['vMem']\n",
    "    sapDataTemp['xSAPS'] = row['vSAPS']\n",
    "    \n",
    "    #Normalization Target Data\n",
    "    sapDataTemp['nxCPU']  = (sapDataTemp['xCPU']  - minvCPU)  / (maxvCPU - minvCPU)\n",
    "    sapDataTemp['nxMem']  = (sapDataTemp['xMem']  - minvMem)  / (maxvMem - minvMem)\n",
    "    sapDataTemp['nxSAPS'] = (sapDataTemp['xSAPS'] - minvSAPS) / (maxvSAPS - minvSAPS)\n",
    "\n",
    "    #Error distance calculation\n",
    "    sapDataTemp['CPUError']  = (sapDataTemp['nvCPU'] - sapDataTemp['nxCPU'])**2\n",
    "    sapDataTemp['MemError']  = (sapDataTemp['nvMem'] - sapDataTemp['nxMem'])**2\n",
    "    sapDataTemp['SAPSError'] = (sapDataTemp['nvSAPS'] - sapDataTemp['nxSAPS'])**2\n",
    "    sapDataTemp['tError']    = (wvCPU * sapDataTemp['CPUError'] + wMem * sapDataTemp['MemError'] + wSAPS * sapDataTemp['SAPSError'])/(wvCPU+wMem+wSAPS)\n",
    "\n",
    "    #Select lowest error distance\n",
    "    result = sapDataTemp.loc[sapDataTemp['tError'].idxmin()]\n",
    "    \n",
    "    #Update mapping column\n",
    "    mapData.at[index, 'targetVM'] = result['azVmName']\n",
    "    mapData.at[index, 'Error']    = result['tError']\n",
    "    mapData.at[index, 'tCPU']     = result['vCPU']\n",
    "    mapData.at[index, 'tMem']     = result['vMem']\n",
    "    mapData.at[index, 'tSAPS']    = result['vSAPS']\n",
    "   \n"
   ]
  },
  {
   "cell_type": "code",
   "execution_count": 20,
   "metadata": {},
   "outputs": [
    {
     "name": "stdout",
     "output_type": "stream",
     "text": [
      "              vmID  vCPU  vMem DimDataInstance  vSAPS  targetVM         Error  \\\n",
      "0       aljerpdev      8  49.4         D8s_v3       0      DS13  1.443775e-06   \n",
      "1      aljerpprd1      8  65.9         D8s_v3       0    E8s_v3  1.196517e-07   \n",
      "2      aljerpprd2      4  65.9         D4s_v3       0  E8-4s_v3  1.196517e-07   \n",
      "3     aljerpprda1     16  65.9        D16s_v3       0   D16s_v3  1.196517e-07   \n",
      "4    aljerpprda10     16  65.9        D16s_v3       0   D16s_v3  1.196517e-07   \n",
      "..             ...   ...   ...             ...    ...       ...           ...   \n",
      "157     aljnw9ci2      4  16.4         D4s_v3       0    D4s_v3  5.303121e-09   \n",
      "158     aljnw9db1      8  32.9         D8s_v3       0    D8s_v3  2.684705e-08   \n",
      "159     aljnw9db2      8  32.9         D8s_v3       0    D8s_v3  2.684705e-08   \n",
      "160   aljnw9pasfm      4   8.1         D4s_v3       0    D4s_v3  2.068549e-06   \n",
      "161     ALJSAPGUI      8   8.6         D8s_v3       0    D8s_v3  1.814861e-05   \n",
      "\n",
      "     tCPU  tMem    tSAPS  \n",
      "0     8.0  56.0   9300.0  \n",
      "1     8.0  64.0   8710.0  \n",
      "2     4.0  64.0   4378.0  \n",
      "3    16.0  64.0  17420.0  \n",
      "4    16.0  64.0  17420.0  \n",
      "..    ...   ...      ...  \n",
      "157   4.0  16.0   4355.0  \n",
      "158   8.0  32.0   8710.0  \n",
      "159   8.0  32.0   8710.0  \n",
      "160   4.0  16.0   4355.0  \n",
      "161   8.0  32.0   8710.0  \n",
      "\n",
      "[162 rows x 10 columns]\n"
     ]
    }
   ],
   "source": [
    "print(mapData)\n",
    "\n",
    "#Write to csv file\n",
    "mapData.to_csv(OUT_CSV_PATH, header=True)"
   ]
  },
  {
   "cell_type": "code",
   "execution_count": null,
   "metadata": {},
   "outputs": [],
   "source": []
  }
 ],
 "metadata": {
  "kernelspec": {
   "display_name": "Python 3",
   "language": "python",
   "name": "python3"
  },
  "language_info": {
   "codemirror_mode": {
    "name": "ipython",
    "version": 3
   },
   "file_extension": ".py",
   "mimetype": "text/x-python",
   "name": "python",
   "nbconvert_exporter": "python",
   "pygments_lexer": "ipython3",
   "version": "3.7.6"
  }
 },
 "nbformat": 4,
 "nbformat_minor": 4
}
